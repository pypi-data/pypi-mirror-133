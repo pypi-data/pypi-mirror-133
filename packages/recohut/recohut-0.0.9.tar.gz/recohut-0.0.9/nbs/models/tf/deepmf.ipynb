{
 "cells": [
  {
   "cell_type": "code",
   "execution_count": null,
   "metadata": {},
   "outputs": [],
   "source": [
    "# default_exp models.tf.deepmf"
   ]
  },
  {
   "cell_type": "markdown",
   "metadata": {},
   "source": [
    "# DeepMF\n",
    "> Deep Matrix Factorization Model."
   ]
  },
  {
   "cell_type": "code",
   "execution_count": null,
   "metadata": {},
   "outputs": [],
   "source": [
    "#hide\n",
    "from nbdev.showdoc import *"
   ]
  },
  {
   "cell_type": "code",
   "execution_count": null,
   "metadata": {},
   "outputs": [],
   "source": [
    "#export\n",
    "import tensorflow as tf\n",
    "from tensorflow.keras.models import Model\n",
    "from tensorflow.keras.layers import Embedding, Flatten, Input, Dot\n",
    "\n",
    "\n",
    "class DeepMF:\n",
    "    \"\"\"Deep Matrix Factorization.\n",
    "    \"\"\"\n",
    "    def __init__(self, num_users, num_items, latent_dim=20):\n",
    "        self.num_users = num_users\n",
    "        self.num_items = num_items\n",
    "        self.latent_dim = latent_dim\n",
    "\n",
    "    def build(self):\n",
    "        user_input = Input(shape=[1])\n",
    "        user_embedding = Embedding(self.num_users, self.latent_dim)(user_input)\n",
    "        user_vec = Flatten()(user_embedding)\n",
    "\n",
    "        item_input = Input(shape=[1])\n",
    "        item_embedding = Embedding(self.num_items, self.latent_dim)(item_input)\n",
    "        item_vec = Flatten()(item_embedding) \n",
    "                \n",
    "        dot = Dot(axes=1)([item_vec, user_vec])\n",
    "            \n",
    "        model = Model([user_input, item_input], dot)\n",
    "        return model"
   ]
  },
  {
   "cell_type": "code",
   "execution_count": null,
   "metadata": {},
   "outputs": [
    {
     "name": "stdout",
     "output_type": "stream",
     "text": [
      "Author: Sparsh A.\n",
      "\n",
      "Last updated: 2021-12-17 07:21:33\n",
      "\n",
      "Compiler    : GCC 7.5.0\n",
      "OS          : Linux\n",
      "Release     : 5.4.104+\n",
      "Machine     : x86_64\n",
      "Processor   : x86_64\n",
      "CPU cores   : 2\n",
      "Architecture: 64bit\n",
      "\n",
      "tensorflow: 2.7.0\n",
      "IPython   : 5.5.0\n",
      "\n"
     ]
    }
   ],
   "source": [
    "#hide-input\n",
    "!pip install -q watermark\n",
    "%reload_ext watermark\n",
    "%watermark -a \"Sparsh A.\" -m -iv -u -t -d"
   ]
  },
  {
   "cell_type": "markdown",
   "metadata": {},
   "source": [
    "---"
   ]
  }
 ],
 "metadata": {
  "kernelspec": {
   "display_name": "Python 3",
   "name": "python3"
  }
 },
 "nbformat": 4,
 "nbformat_minor": 0
}
