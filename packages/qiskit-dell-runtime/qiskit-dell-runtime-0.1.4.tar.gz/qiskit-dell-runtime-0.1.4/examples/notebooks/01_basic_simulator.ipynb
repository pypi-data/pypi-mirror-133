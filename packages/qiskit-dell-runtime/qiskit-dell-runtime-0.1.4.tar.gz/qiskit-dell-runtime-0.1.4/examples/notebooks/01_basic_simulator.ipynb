{
 "cells": [
  {
   "cell_type": "code",
   "execution_count": 3,
   "id": "7f47229e",
   "metadata": {},
   "outputs": [],
   "source": [
    "from dell_runtime import DellRuntimeProvider\n",
    "from dell_runtime import BackendProvider"
   ]
  },
  {
   "cell_type": "code",
   "execution_count": 4,
   "id": "6e012e28",
   "metadata": {},
   "outputs": [
    {
     "data": {
      "text/plain": [
       "[AerSimulator('aer_simulator'), <EmulatorBackend('emulator')>]"
      ]
     },
     "execution_count": 4,
     "metadata": {},
     "output_type": "execute_result"
    }
   ],
   "source": [
    "provider = BackendProvider()\n",
    "provider.backends()"
   ]
  },
  {
   "cell_type": "code",
   "execution_count": 5,
   "id": "c425b0ea",
   "metadata": {},
   "outputs": [],
   "source": [
    "backend = provider.get_backend(name=\"emulator\")"
   ]
  },
  {
   "cell_type": "code",
   "execution_count": 6,
   "id": "c3cb702f",
   "metadata": {},
   "outputs": [],
   "source": [
    "backend_config = backend.configuration()"
   ]
  },
  {
   "cell_type": "code",
   "execution_count": 7,
   "id": "1b8ccd05",
   "metadata": {},
   "outputs": [
    {
     "data": {
      "text/plain": [
       "'emulator'"
      ]
     },
     "execution_count": 7,
     "metadata": {},
     "output_type": "execute_result"
    }
   ],
   "source": [
    "backend_config.backend_name"
   ]
  },
  {
   "cell_type": "code",
   "execution_count": 8,
   "id": "60f46880",
   "metadata": {},
   "outputs": [],
   "source": [
    "from qiskit import QuantumCircuit, execute\n",
    "\n",
    "qc = QuantumCircuit(2, 2)\n",
    "qc.h(0)\n",
    "qc.cx(0, 1)\n",
    "qc.measure([0, 1], [0, 1])\n",
    "job = backend.run(qc, shots=1024) "
   ]
  },
  {
   "cell_type": "code",
   "execution_count": 9,
   "id": "4bc7cccf",
   "metadata": {},
   "outputs": [],
   "source": [
    "result = job.result()"
   ]
  },
  {
   "cell_type": "code",
   "execution_count": 10,
   "id": "b0fb29bc",
   "metadata": {},
   "outputs": [
    {
     "data": {
      "image/png": "[encoded data removed]",
      "text/plain": [
       "<Figure size 504x360 with 1 Axes>"
      ]
     },
     "execution_count": 10,
     "metadata": {},
     "output_type": "execute_result"
    }
   ],
   "source": [
    "counts = result.get_counts(qc)\n",
    "\n",
    "from qiskit.tools.visualization import plot_histogram, plot_state_city\n",
    "plot_histogram(counts, title='Bell-State counts')"
   ]
  },
  {
   "cell_type": "code",
   "execution_count": null,
   "id": "a609828c",
   "metadata": {},
   "outputs": [],
   "source": []
  }
 ],
 "metadata": {
  "kernelspec": {
   "display_name": "qruntime",
   "language": "python",
   "name": "qruntime"
  },
  "language_info": {
   "codemirror_mode": {
    "name": "ipython",
    "version": 3
   },
   "file_extension": ".py",
   "mimetype": "text/x-python",
   "name": "python",
   "nbconvert_exporter": "python",
   "pygments_lexer": "ipython3",
   "version": "3.9.5"
  }
 },
 "nbformat": 4,
 "nbformat_minor": 5
}
