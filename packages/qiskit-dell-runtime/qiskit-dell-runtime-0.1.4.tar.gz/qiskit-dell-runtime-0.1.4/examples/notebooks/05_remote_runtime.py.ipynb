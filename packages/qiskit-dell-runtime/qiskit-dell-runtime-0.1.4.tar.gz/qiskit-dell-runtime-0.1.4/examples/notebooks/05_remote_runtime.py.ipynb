{
 "cells": [
  {
   "cell_type": "code",
   "execution_count": 5,
   "id": "4284aea0",
   "metadata": {},
   "outputs": [],
   "source": [
    "from dell_runtime import DellRuntimeProvider\n",
    "import os"
   ]
  },
  {
   "cell_type": "code",
   "execution_count": 6,
   "id": "4dc7d77a",
   "metadata": {},
   "outputs": [],
   "source": [
    "provider = DellRuntimeProvider()"
   ]
  },
  {
   "cell_type": "code",
   "execution_count": 7,
   "id": "1da475e0",
   "metadata": {},
   "outputs": [
    {
     "name": "stdout",
     "output_type": "stream",
     "text": [
      "Opening webpage https://appsso.login.scfd.isus.emc.com/oauth/authorize?response_type=code&client_id=5c731039-4384-4ea1-b134-c9c9c8e25131&redirect_uri=http%3A%2F%2Fqdr-dev.oro-sandbox-small1.k8s.cec.lab.emc.com%2Fcallback&scope=openid+roles+user_attributes&state=R1qCNPZHMKBzxg2SK1xtag8V9GpKih\n",
      "\n"
     ]
    }
   ],
   "source": [
    "provider.remote(os.getenv(\"SERVER_URL\"))"
   ]
  },
  {
   "cell_type": "code",
   "execution_count": 8,
   "id": "42915b63",
   "metadata": {},
   "outputs": [
    {
     "data": {
      "text/plain": [
       "{}"
      ]
     },
     "execution_count": 8,
     "metadata": {},
     "output_type": "execute_result"
    }
   ],
   "source": [
    "provider.runtime.programs()"
   ]
  },
  {
   "cell_type": "code",
   "execution_count": 9,
   "id": "b2620e60",
   "metadata": {},
   "outputs": [],
   "source": [
    "provider.runtime.pprint_programs()"
   ]
  },
  {
   "cell_type": "code",
   "execution_count": 10,
   "id": "a4489995",
   "metadata": {},
   "outputs": [],
   "source": [
    "RUNTIME_PROGRAM = \"\"\"\n",
    "from qiskit.compiler import transpile, schedule\n",
    "\n",
    "\n",
    "def main(\n",
    "    backend,\n",
    "    user_messenger,\n",
    "    circuits,\n",
    "    **kwargs,\n",
    "):\n",
    "\n",
    "    user_messenger.publish({'results': 'intermittently'})\n",
    "\n",
    "    circuits = transpile(\n",
    "        circuits,\n",
    "    )\n",
    "\n",
    "    if not isinstance(circuits, list):\n",
    "        circuits = [circuits]\n",
    "\n",
    "    # Compute raw results\n",
    "    result = backend.run(circuits, **kwargs).result()\n",
    "\n",
    "    user_messenger.publish({'results': 'finally'})\n",
    "    user_messenger.publish(result.to_dict(), final=True)\n",
    "    print(\"job complete successfully\")\n",
    "\"\"\""
   ]
  },
  {
   "cell_type": "code",
   "execution_count": 11,
   "id": "4bec086b",
   "metadata": {},
   "outputs": [],
   "source": [
    "RUNTIME_PROGRAM_METADATA = {\n",
    "    \"max_execution_time\": 600,\n",
    "    \"description\": \"Qiskit test program\"\n",
    "}"
   ]
  },
  {
   "cell_type": "code",
   "execution_count": 12,
   "id": "ffb41f41",
   "metadata": {},
   "outputs": [],
   "source": [
    "program_id = provider.runtime.upload_program(RUNTIME_PROGRAM, metadata=RUNTIME_PROGRAM_METADATA)"
   ]
  },
  {
   "cell_type": "code",
   "execution_count": 13,
   "id": "9b3906be",
   "metadata": {},
   "outputs": [
    {
     "data": {
      "text/plain": [
       "{'5a487b2140c8': <qiskit.providers.ibmq.runtime.runtime_program.RuntimeProgram at 0x7fd3615fbf70>}"
      ]
     },
     "execution_count": 13,
     "metadata": {},
     "output_type": "execute_result"
    }
   ],
   "source": [
    "proglist = provider.runtime.programs()\n",
    "proglist"
   ]
  },
  {
   "cell_type": "code",
   "execution_count": 14,
   "id": "8a095375",
   "metadata": {},
   "outputs": [
    {
     "data": {
      "text/plain": [
       "'5a487b2140c8'"
      ]
     },
     "execution_count": 14,
     "metadata": {},
     "output_type": "execute_result"
    }
   ],
   "source": [
    "program_id"
   ]
  },
  {
   "cell_type": "code",
   "execution_count": 15,
   "id": "00d887eb",
   "metadata": {},
   "outputs": [
    {
     "name": "stdout",
     "output_type": "stream",
     "text": [
      "==================================================\n",
      "5a487b2140c8:\n",
      "  Name: 5a487b2140c8\n",
      "  Description: Qiskit test program\n",
      "  Version: 0\n",
      "  Creation date: \n",
      "  Max execution time: 600\n",
      "  Input parameters:\n",
      "    none\n",
      "  Interim results:\n",
      "    none\n",
      "  Returns:\n",
      "    none\n"
     ]
    }
   ],
   "source": [
    "provider.runtime.pprint_programs(refresh=True)"
   ]
  },
  {
   "cell_type": "code",
   "execution_count": 16,
   "id": "613cb911",
   "metadata": {},
   "outputs": [],
   "source": [
    "from qiskit import QuantumCircuit, execute, transpile\n",
    "qc = QuantumCircuit(2, 2)\n",
    "qc.h(0)\n",
    "qc.cx(0, 1)\n",
    "qc.measure([0, 1], [0, 1])\n",
    "\n",
    "program_inputs = {\n",
    "    'circuits': qc,\n",
    "}"
   ]
  },
  {
   "cell_type": "code",
   "execution_count": 17,
   "id": "5e00ffd0",
   "metadata": {},
   "outputs": [],
   "source": [
    "job = provider.runtime.run(program_id, options=None, inputs=program_inputs)"
   ]
  },
  {
   "cell_type": "code",
   "execution_count": 18,
   "id": "f9209306",
   "metadata": {},
   "outputs": [],
   "source": [
    "result = job.result(timeout=120)"
   ]
  },
  {
   "cell_type": "code",
   "execution_count": 19,
   "id": "78e12abb",
   "metadata": {},
   "outputs": [
    {
     "data": {
      "text/plain": [
       "'Completed'"
      ]
     },
     "execution_count": 19,
     "metadata": {},
     "output_type": "execute_result"
    }
   ],
   "source": [
    "job.status()"
   ]
  },
  {
   "cell_type": "code",
   "execution_count": null,
   "id": "043112b9",
   "metadata": {},
   "outputs": [],
   "source": []
  }
 ],
 "metadata": {
  "kernelspec": {
   "display_name": "qruntime",
   "language": "python",
   "name": "qruntime"
  },
  "language_info": {
   "codemirror_mode": {
    "name": "ipython",
    "version": 3
   },
   "file_extension": ".py",
   "mimetype": "text/x-python",
   "name": "python",
   "nbconvert_exporter": "python",
   "pygments_lexer": "ipython3",
   "version": "3.9.5"
  }
 },
 "nbformat": 4,
 "nbformat_minor": 5
}
