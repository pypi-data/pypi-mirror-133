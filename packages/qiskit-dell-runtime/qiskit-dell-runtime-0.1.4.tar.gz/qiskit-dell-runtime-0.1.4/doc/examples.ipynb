{
 "cells": [
  {
   "cell_type": "markdown",
   "source": [
    "# Qiskit Dell Runtime Examples"
   ],
   "metadata": {}
  },
  {
   "cell_type": "markdown",
   "source": [
    "## Local Execution\n",
    "    \n",
    "The following program walks through a (simple) example usage of the \n",
    "Qiskit Dell Runtime in a local execution environment: i.e. potentially\n",
    "using a locally installed simulator or a remote call directly from a\n",
    "local machine to a remote simulator or QPU."
   ],
   "metadata": {}
  },
  {
   "cell_type": "code",
   "execution_count": null,
   "source": [
    "from dell_runtime import DellRuntimeProvider\n",
    "from qiskit import QuantumCircuit\n",
    "import logging\n",
    "import requests\n",
    "import time\n",
    "import os"
   ],
   "outputs": [],
   "metadata": {}
  },
  {
   "cell_type": "markdown",
   "source": [
    "\n",
    "If the program that interacts with the simulator/QPU is small enough,\n",
    "it can be stored as a string in the file that interfaces with the \n",
    "provider. Both directories and files can be taken as input, as well."
   ],
   "metadata": {}
  },
  {
   "cell_type": "code",
   "execution_count": null,
   "source": [
    "RUNTIME_PROGRAM = \"\"\"\n",
    "# This code is part of qiskit-runtime.\n",
    "#\n",
    "# (C) Copyright IBM 2021.\n",
    "#\n",
    "# This code is licensed under the Apache License, Version 2.0. You may\n",
    "# obtain a copy of this license in the LICENSE.txt file in the root directory\n",
    "# of this source tree or at http://www.apache.org/licenses/LICENSE-2.0.\n",
    "#\n",
    "# Any modifications or derivative works of this code must retain this\n",
    "# copyright notice, and modified files need to carry a notice indicating\n",
    "# that they have been altered from the originals.\n",
    "from qiskit.compiler import transpile, schedule\n",
    "\n",
    "\n",
    "def main(\n",
    "    backend,\n",
    "    user_messenger,\n",
    "    circuits,\n",
    "    **kwargs,\n",
    "):\n",
    "    circuits = transpile(\n",
    "        circuits,\n",
    "    )\n",
    "    \n",
    "    user_messenger.publish({'results': 'intermittently'}, final=False)\n",
    "\n",
    "    if not isinstance(circuits, list):\n",
    "        circuits = [circuits]\n",
    "\n",
    "    # Compute raw results using either simulator or QPU backend.\n",
    "    result = backend.run(circuits, **kwargs).result()\n",
    "\n",
    "    user_messenger.publish(result.to_dict(), final=True)\n",
    "\"\"\"\n",
    "\n",
    "RUNTIME_PROGRAM_METADATA = {\n",
    "    \"max_execution_time\": 600,\n",
    "    \"description\": \"Qiskit test program\"\n",
    "}\n",
    "\n",
    "PROGRAM_PREFIX = 'qiskit-test'\n",
    "REMOTE_RUNTIME = os.getenv(\"SERVER_URL\") \n",
    "\n",
    "logging.basicConfig(level=logging.DEBUG)"
   ],
   "outputs": [],
   "metadata": {}
  },
  {
   "cell_type": "markdown",
   "source": [
    "The DellRuntimeProvider is an interface that offers a choice of runtime (local or remote). The client is able to select through this interface whether or not they would like to run their code on a remote environment"
   ],
   "metadata": {}
  },
  {
   "cell_type": "code",
   "execution_count": null,
   "source": [
    "provider = DellRuntimeProvider()"
   ],
   "outputs": [],
   "metadata": {}
  },
  {
   "cell_type": "markdown",
   "source": [
    "The runtime is a service provided that allows clients to upload, update,\n",
    "view, and run programs inside an execution environment. Since the client\n",
    "has not specified a remote runtime to the provider it defaults to local."
   ],
   "metadata": {}
  },
  {
   "cell_type": "code",
   "execution_count": null,
   "source": [
    "program_id = provider.runtime.upload_program(RUNTIME_PROGRAM, metadata=RUNTIME_PROGRAM_METADATA)\n",
    "print(f\"PROGRAM ID: {program_id}\")\n",
    "programs = provider.runtime.pprint_programs(refresh=True)"
   ],
   "outputs": [],
   "metadata": {}
  },
  {
   "cell_type": "markdown",
   "source": [
    "The following updates the existing program with a new description - this can be done for any of the metadata fields or the program data itself, though changes to the program data are not shown in the `pprint_programs` output."
   ],
   "metadata": {}
  },
  {
   "cell_type": "code",
   "execution_count": null,
   "source": [
    "provider.runtime.update_program(program_id, description=\"IBM/Dell Updated Qiskit Runtime Program\")\n",
    "programs = provider.runtime.pprint_programs(refresh=True)"
   ],
   "outputs": [],
   "metadata": {}
  },
  {
   "cell_type": "markdown",
   "source": [
    "Below we use the Qiskit QuantumCircuit to create a circuit for our program to run. We then place that circuit in `program_inputs` - a dictionary of things that will be provided to our runtime program."
   ],
   "metadata": {}
  },
  {
   "cell_type": "code",
   "execution_count": null,
   "source": [
    "qc = QuantumCircuit(2, 2)\n",
    "qc.h(0)\n",
    "qc.cx(0, 1)\n",
    "qc.measure([0, 1], [0, 1])\n",
    "\n",
    "program_inputs = {\n",
    "    'circuits': qc,\n",
    "}"
   ],
   "outputs": [],
   "metadata": {}
  },
  {
   "cell_type": "markdown",
   "source": [
    "Through the `provider` we are able to run an instance of our program with the inputs we have created. \n",
    "\n",
    "When we run a job locally, a new process is started. This new process returns results to the main process via a socket connection."
   ],
   "metadata": {}
  },
  {
   "cell_type": "code",
   "execution_count": null,
   "source": [
    "job = provider.runtime.run(program_id, options=None, inputs=program_inputs)"
   ],
   "outputs": [],
   "metadata": {}
  },
  {
   "cell_type": "markdown",
   "source": [
    "We can obtain a job's final results and specify a timeout for how long we are willing to wait. If no timeout is specified, the function will return `None` or the final results if they are present."
   ],
   "metadata": {}
  },
  {
   "cell_type": "code",
   "execution_count": null,
   "source": [
    "results = job.result(timeout=60)\n",
    "print(results)"
   ],
   "outputs": [],
   "metadata": {}
  },
  {
   "cell_type": "markdown",
   "source": [
    "We can also provide a callback function to the runtime for a job. A thread launched in the client process to poll for messages will call the callback when a non-final message is received."
   ],
   "metadata": {}
  },
  {
   "cell_type": "code",
   "execution_count": null,
   "source": [
    "def callback_function(msg):\n",
    "    print(f'******************\\n\\n\\nFrom Callback Function: {msg}\\n\\n\\n******************')\n",
    "\n",
    "job = provider.runtime.run(program_id, inputs=program_inputs, options=None, callback=callback_function)"
   ],
   "outputs": [],
   "metadata": {}
  },
  {
   "cell_type": "markdown",
   "source": [
    "You may also specify a different backend on which you would like the quantum code to run. The default backend is the Qiskit Aer simulator."
   ],
   "metadata": {}
  },
  {
   "cell_type": "code",
   "execution_count": null,
   "source": [
    "program_inputs['backend_name'] = 'emulator'\n",
    "job = provider.runtime.run(program_id, inputs=program_inputs, options=None, callback=callback_function)"
   ],
   "outputs": [],
   "metadata": {}
  },
  {
   "cell_type": "markdown",
   "source": [
    "## Remote Execution\n",
    "\n",
    "The following example does mainly the same things as the local version, but establishes a connection to a remote server on which to run bundled code. The program starts identically to the local example:"
   ],
   "metadata": {}
  },
  {
   "cell_type": "code",
   "execution_count": null,
   "source": [
    "from dell_runtime import DellRuntimeProvider\n",
    "from qiskit import QuantumCircuit\n",
    "import logging\n",
    "import requests\n",
    "import time\n",
    "import os\n",
    "\n",
    "RUNTIME_PROGRAM = \"\"\"\n",
    "# This code is part of qiskit-runtime.\n",
    "#\n",
    "# (C) Copyright IBM 2021.\n",
    "#\n",
    "# This code is licensed under the Apache License, Version 2.0. You may\n",
    "# obtain a copy of this license in the LICENSE.txt file in the root directory\n",
    "# of this source tree or at http://www.apache.org/licenses/LICENSE-2.0.\n",
    "#\n",
    "# Any modifications or derivative works of this code must retain this\n",
    "# copyright notice, and modified files need to carry a notice indicating\n",
    "# that they have been altered from the originals.\n",
    "from qiskit.compiler import transpile, schedule\n",
    "\n",
    "\n",
    "def main(\n",
    "    backend,\n",
    "    user_messenger,\n",
    "    circuits,\n",
    "    **kwargs,\n",
    "):\n",
    "    circuits = transpile(\n",
    "        circuits,\n",
    "    )\n",
    "    \n",
    "    user_messenger.publish({'results': 'intermittently'}, final=False)\n",
    "\n",
    "    if not isinstance(circuits, list):\n",
    "        circuits = [circuits]\n",
    "\n",
    "    # Compute raw results\n",
    "    result = backend.run(circuits, **kwargs).result()\n",
    "\n",
    "    user_messenger.publish(result.to_dict(), final=True)\n",
    "\"\"\"\n",
    "\n",
    "RUNTIME_PROGRAM_METADATA = {\n",
    "    \"max_execution_time\": 600,\n",
    "    \"description\": \"Qiskit test program\"\n",
    "}\n",
    "\n",
    "PROGRAM_PREFIX = 'qiskit-test'\n",
    "REMOTE_RUNTIME = os.getenv(\"SERVER_URL\") \n",
    "\n",
    "logging.basicConfig(level=logging.DEBUG)"
   ],
   "outputs": [],
   "metadata": {}
  },
  {
   "cell_type": "markdown",
   "source": [
    "Here we get our first difference - the `provider.remote()` call establishes a connection to our remote sever running on Kubernetes. \n",
    "\n",
    "If SSO is not enabled on the server, the client is returned a user ID that they may save and set as an environment variable (`$QDR_ID`) to return to uploaded data.\n",
    "\n",
    "If SSO is enabled on the server, the client will follow the usual set of SSO authentication steps (logging in using a pop-up browser window with their credentials) and the server will authenticate them using a token they send back."
   ],
   "metadata": {}
  },
  {
   "cell_type": "code",
   "execution_count": null,
   "source": [
    "provider = DellRuntimeProvider()\n",
    "provider.remote(REMOTE_RUNTIME)"
   ],
   "outputs": [],
   "metadata": {}
  },
  {
   "cell_type": "markdown",
   "source": [
    "Uploading a program looks exactly the same as it did in the local version."
   ],
   "metadata": {}
  },
  {
   "cell_type": "code",
   "execution_count": null,
   "source": [
    "text_program_id = provider.runtime.upload_program(RUNTIME_PROGRAM, metadata=RUNTIME_PROGRAM_METADATA)\n",
    "print(f\"PROGRAM ID: {text_program_id}\")"
   ],
   "outputs": [],
   "metadata": {}
  },
  {
   "cell_type": "markdown",
   "source": [
    "Printing out program metadata and updating programs also works the same as locally."
   ],
   "metadata": {}
  },
  {
   "cell_type": "code",
   "execution_count": null,
   "source": [
    "programs = provider.runtime.pprint_programs(refresh=True)\n",
    "provider.runtime.update_program(text_program_id, description=\"IBM/Dell Updated Qiskit Runtime Program\")\n",
    "programs = provider.runtime.pprint_programs(refresh=True)"
   ],
   "outputs": [],
   "metadata": {}
  },
  {
   "cell_type": "markdown",
   "source": [
    "It is also possible to upload programs stored in files or directories. To do so, instead of providing a string containing the entire program to `provider.runtime.run()` you may provide a path to a file or directory:"
   ],
   "metadata": {}
  },
  {
   "cell_type": "code",
   "execution_count": null,
   "source": [
    "file_program_id = provider.runtime.upload_program(\"qka.py\", description=\"File Upload to Orchestrator\")\n",
    "dir_program_id = provider.runtime.upload_program(\"./qkad\", description=\"Directory Upload to Orchestrator\")"
   ],
   "outputs": [],
   "metadata": {}
  },
  {
   "cell_type": "markdown",
   "source": [
    "You'll be able to see those programs uploaded when you print out the list:"
   ],
   "metadata": {}
  },
  {
   "cell_type": "code",
   "execution_count": null,
   "source": [
    "provider.runtime.pprint_programs(refresh=True)"
   ],
   "outputs": [],
   "metadata": {}
  },
  {
   "cell_type": "markdown",
   "source": [
    "From here we'll do the same things that we did in the local version. Set up a circuit, pass it as input to an instance of our circuit runner program, and then obtain our results:"
   ],
   "metadata": {}
  },
  {
   "cell_type": "code",
   "execution_count": null,
   "source": [
    "qc = QuantumCircuit(2, 2)\n",
    "qc.h(0)\n",
    "qc.cx(0, 1)\n",
    "qc.measure([0, 1], [0, 1])\n",
    "\n",
    "program_inputs = {\n",
    "    'circuits': qc,\n",
    "}\n",
    "\n",
    "job = provider.runtime.run(text_program_id, options=None, inputs=program_inputs)\n",
    "\n",
    "results = job.result(timeout=60)\n",
    "print(results)"
   ],
   "outputs": [],
   "metadata": {}
  },
  {
   "cell_type": "markdown",
   "source": [
    "We can also do the same callback feature we saw locally and run on a backend provided on the remote server:"
   ],
   "metadata": {}
  },
  {
   "cell_type": "code",
   "execution_count": null,
   "source": [
    "program_inputs['backend_name'] = 'emulator'\n",
    "job = provider.runtime.run(text_program_id, inputs=program_inputs, options=None, callback=callback_function)\n",
    "results = job.result(timeout=600)\n",
    "print(results)"
   ],
   "outputs": [],
   "metadata": {}
  },
  {
   "cell_type": "markdown",
   "source": [
    "## Common Algorithms"
   ],
   "metadata": {}
  },
  {
   "cell_type": "markdown",
   "source": [
    "### QKA\n",
    "\n",
    "It is wholly possible to run a Quantum Kernel Alignment implementation on the Qiskit Dell Runtime. Below is an example that utilizes the directory upload feature (the bundle uploaded is located in `../examples/programs/qkad`) to execute an instance of QKA.\n",
    "\n",
    "The inputs for this version are already part of the bundle, though it is possible to manipulate the files so that inputs are generated as part of the client code and provided to the bundle upon initiating a job."
   ],
   "metadata": {}
  },
  {
   "cell_type": "code",
   "execution_count": null,
   "source": [
    "from dell_runtime import DellRuntimeProvider\n",
    "from qiskit import QuantumCircuit\n",
    "import pandas as pd\n",
    "from time import sleep\n",
    "import os\n",
    "import base64\n",
    "import shutil\n",
    "import json\n",
    "\n",
    "provider = DellRuntimeProvider()\n",
    "\n",
    "RUNTIME_PROGRAM_METADATA = {\n",
    "    \"max_execution_time\": 600,\n",
    "    \"description\": \"Qiskit test program\"\n",
    "}\n",
    "\n",
    "provider.remote(os.getenv(\"SERVER_URL\"))\n",
    "here = os.path.dirname(os.path.realpath(__file__))\n",
    "\n",
    "program_id = provider.runtime.upload_program(here + \"../examples/programs/qkad\", metadata=RUNTIME_PROGRAM_METADATA)\n",
    "\n",
    "job = provider.runtime.run(program_id, options=None, inputs={})\n",
    "\n",
    "res = job.result(timeout=1000)\n",
    "print(res)"
   ],
   "outputs": [],
   "metadata": {}
  },
  {
   "cell_type": "markdown",
   "source": [
    "### VQE"
   ],
   "metadata": {}
  },
  {
   "cell_type": "markdown",
   "source": [
    "It is also possible to run Variational Quantum Eigensolver algorithms using the Qiskit Dell Runtime. An example of the client code is visible below (adapted from the IBM Qiskit Textbook):\n",
    "\n",
    "Note that any inputs you need in your program can be placed inside the same dictionary - they will be contained in `kwargs` in your program's `main` function. \n",
    "\n",
    "The Qiskit Terra implementation of the VQE algorithm also provides an opportunity to experience quantum emulation (as discussed in the [introduction](intro.md#emulation-vs-simulation)). The Terra implementation provides the `include_custom` parameter, which guarantees an ideal outcome with no shot noise (as in Qiskit's statevector simulator). This parameter can therefore be used to emulate ideal results instead of simulate shots to converge on a non-ideal outcome.\n",
    "\n",
    "You can read more about advanced VQE options in the [Qiskit Terra documentation](https://qiskit.org/documentation/tutorials/algorithms/04_vqe_advanced.html)"
   ],
   "metadata": {}
  },
  {
   "cell_type": "code",
   "execution_count": null,
   "source": [
    "from qiskit.opflow import Z, I\n",
    "from qiskit.circuit.library import EfficientSU2\n",
    "import numpy as np\n",
    "from qiskit.algorithms.optimizers import SPSA\n",
    "from dell_runtime import DellRuntimeProvider\n",
    "import os\n",
    "from time import sleep\n",
    "from datetime import datetime, timedelta\n",
    "\n",
    "num_qubits = 4\n",
    "hamiltonian = (Z ^ Z) ^ (I ^ (num_qubits - 2))\n",
    "target_energy = -1\n",
    "\n",
    "\n",
    "# the rotation gates are chosen randomly, so we set a seed for reproducibility\n",
    "ansatz = EfficientSU2(num_qubits, reps=1, entanglement='linear', insert_barriers=True)\n",
    "# ansatz.draw('mpl', style='iqx')\n",
    "\n",
    "optimizer = SPSA(maxiter=50)\n",
    "\n",
    "np.random.seed(10)  # seed for reproducibility\n",
    "initial_point = np.random.random(ansatz.num_parameters)\n",
    "intermediate_info = {\n",
    "    'nfev': [],\n",
    "    'parameters': [],\n",
    "    'energy': [],\n",
    "    'stddev': []\n",
    "}\n",
    "\n",
    "timestamps = []\n",
    "\n",
    "def raw_callback(*args):\n",
    "    (nfev, parameters, energy, stddev) = args[0]\n",
    "    intermediate_info['nfev'].append(nfev)\n",
    "    intermediate_info['parameters'].append(parameters)\n",
    "    intermediate_info['energy'].append(energy)\n",
    "    intermediate_info['stddev'].append(stddev)\n",
    "    \n",
    "vqe_inputs = {\n",
    "    'ansatz': ansatz,\n",
    "    'operator': hamiltonian,\n",
    "    'optimizer': {'name': 'SPSA', 'maxiter': 15},  # let's only do a few iterations!\n",
    "    'initial_point': initial_point,\n",
    "    'measurement_error_mitigation': True,\n",
    "    'shots': 1024,\n",
    "    # Include this parameter to use the snapshot instruction and return the ideal outcome\n",
    "    # that has no shot noise and avoids using the statevector simulator.\n",
    "    # 'include_custom': True\n",
    "}\n",
    "\n",
    "provider = DellRuntimeProvider()\n",
    "provider.remote(os.getenv(\"SERVER_URL\"))\n",
    "program_id = provider.runtime.upload_program(\"vqe.py\", description=\"Variational Quantum Eigensolver Program\")\n",
    "\n",
    "job = provider.runtime.run(\n",
    "    program_id=program_id,\n",
    "    inputs=vqe_inputs,\n",
    "    options=None,\n",
    "    callback=raw_callback\n",
    ")\n",
    "\n",
    "print('Job ID:', job.job_id)\n",
    "\n",
    "result = job.result()\n",
    "while not result:\n",
    "    print('no result yet.')\n",
    "    sleep(0.5)\n",
    "    result = job.result()\n",
    "\n",
    "print(f\"Intermediate Results: {intermediate_info}\")\n",
    "print(f'Reached {result[\"optimal_value\"]} after {result[\"optimizer_evals\"]} evaluations.')\n",
    "print('Available keys:', list(result.keys()))"
   ],
   "outputs": [],
   "metadata": {}
  }
 ],
 "metadata": {
  "interpreter": {
   "hash": "4328632ce02c1579786b7f53e0b0b1bb6d2c2a56348a9b4d03f748bb7a47cc83"
  },
  "kernelspec": {
   "name": "python3",
   "display_name": "Python 3.9.5 64-bit ('qruntime': conda)"
  },
  "language_info": {
   "codemirror_mode": {
    "name": "ipython",
    "version": 3
   },
   "file_extension": ".py",
   "mimetype": "text/x-python",
   "name": "python",
   "nbconvert_exporter": "python",
   "pygments_lexer": "ipython3",
   "version": "3.9.5"
  }
 },
 "nbformat": 4,
 "nbformat_minor": 2
}