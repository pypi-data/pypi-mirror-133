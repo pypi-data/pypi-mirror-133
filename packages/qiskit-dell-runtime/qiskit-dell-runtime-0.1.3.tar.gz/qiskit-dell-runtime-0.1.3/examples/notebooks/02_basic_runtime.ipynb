{
 "cells": [
  {
   "cell_type": "code",
   "execution_count": 1,
   "id": "b89ccf18",
   "metadata": {},
   "outputs": [],
   "source": [
    "from dell_runtime import DellRuntimeProvider"
   ]
  },
  {
   "cell_type": "code",
   "execution_count": 2,
   "id": "c80c078e",
   "metadata": {},
   "outputs": [],
   "source": [
    "RUNTIME_PROGRAM = \"\"\"\n",
    "import random\n",
    "\n",
    "from qiskit import transpile\n",
    "from qiskit.circuit.random import random_circuit\n",
    "\n",
    "def prepare_circuits(backend):\n",
    "    circuit = random_circuit(num_qubits=5, depth=4, measure=True,\n",
    "                            seed=random.randint(0, 1000))\n",
    "    return transpile(circuit, backend)\n",
    "\n",
    "def main(backend, user_messenger, **kwargs):\n",
    "    iterations = kwargs['iterations']\n",
    "    interim_results = kwargs.pop('interim_results', {})\n",
    "    final_result = kwargs.pop(\"final_result\", {})\n",
    "    for it in range(iterations):\n",
    "        qc = prepare_circuits(backend)\n",
    "        user_messenger.publish({\"iteration\": it, \"interim_results\": interim_results})\n",
    "        backend.run(qc).result()\n",
    "\n",
    "    user_messenger.publish(final_result, final=True)\n",
    "\"\"\""
   ]
  },
  {
   "cell_type": "code",
   "execution_count": 3,
   "id": "2fefa916",
   "metadata": {},
   "outputs": [],
   "source": [
    "RUNTIME_PROGRAM_METADATA = {\n",
    "    \"max_execution_time\": 600,\n",
    "    \"description\": \"Qiskit test program\"\n",
    "}\n",
    "\n",
    "PROGRAM_PREFIX = 'qiskit-test'"
   ]
  },
  {
   "cell_type": "code",
   "execution_count": 4,
   "id": "2c7eef1d",
   "metadata": {},
   "outputs": [
    {
     "data": {
      "text/plain": [
       "{}"
      ]
     },
     "execution_count": 4,
     "metadata": {},
     "output_type": "execute_result"
    }
   ],
   "source": [
    "provider = DellRuntimeProvider()\n",
    "provider.runtime.programs()\n"
   ]
  },
  {
   "cell_type": "code",
   "execution_count": 5,
   "id": "025b2d55",
   "metadata": {},
   "outputs": [],
   "source": [
    "program_id = provider.runtime.upload_program(RUNTIME_PROGRAM, metadata=RUNTIME_PROGRAM_METADATA)"
   ]
  },
  {
   "cell_type": "code",
   "execution_count": 6,
   "id": "62e1ff9e",
   "metadata": {},
   "outputs": [
    {
     "name": "stdout",
     "output_type": "stream",
     "text": [
      "==================================================\n",
      "4af41424c6ac066c:\n",
      "  Name: 4af41424c6ac066c\n",
      "  Description: Qiskit test program\n",
      "  Version: 0\n",
      "  Creation date: 24/09/2021 14:22:31\n",
      "  Max execution time: 600\n",
      "  Input parameters:\n",
      "    none\n",
      "  Interim results:\n",
      "    none\n",
      "  Returns:\n",
      "    none\n"
     ]
    }
   ],
   "source": [
    "provider.runtime.pprint_programs()"
   ]
  },
  {
   "cell_type": "code",
   "execution_count": 7,
   "id": "6fcdd11b",
   "metadata": {},
   "outputs": [],
   "source": [
    "runtime_program = provider.runtime.program(program_id)\n",
    "program_inputs = {\n",
    "    \"iterations\": 10\n",
    "}"
   ]
  },
  {
   "cell_type": "code",
   "execution_count": 8,
   "id": "a91122a3",
   "metadata": {},
   "outputs": [
    {
     "name": "stderr",
     "output_type": "stream",
     "text": [
      "DEBUG:dell_runtime.emulation_executor:creating temp directory at /tmp/tmpyrd2h0nh\n",
      "DEBUG:dell_runtime.emulation_executor:finished writing to /tmp/tmpyrd2h0nh/program.py\n",
      "DEBUG:dell_runtime.emulation_executor:finished writing to /tmp/tmpyrd2h0nh/params.json\n",
      "DEBUG:dell_runtime.emulation_executor:finished writing to /tmp/tmpyrd2h0nh/executor.py\n",
      "DEBUG:dell_runtime.emulation_executor:starting ['/home/geoff/miniconda3/envs/qruntime/bin/python3', '/tmp/tmpyrd2h0nh/executor.py']\n",
      "DEBUG:dell_runtime.emulation_executor:finished executing ['/home/geoff/miniconda3/envs/qruntime/bin/python3', '/tmp/tmpyrd2h0nh/executor.py']\n",
      "DEBUG:dell_runtime.emulation_executor:stdout: using default backend: aer_simulator\n",
      "exit\n",
      "\n",
      "DEBUG:dell_runtime.emulation_executor:stderr: \n",
      "DEBUG:dell_runtime.emulation_executor:status: sent COMPLETED\n"
     ]
    }
   ],
   "source": [
    "job = provider.runtime.run(program_id, options=None, inputs=program_inputs)"
   ]
  },
  {
   "cell_type": "code",
   "execution_count": 9,
   "id": "ee1bebc5",
   "metadata": {},
   "outputs": [
    {
     "data": {
      "text/plain": [
       "'Completed'"
      ]
     },
     "execution_count": 9,
     "metadata": {},
     "output_type": "execute_result"
    }
   ],
   "source": [
    "job.status()"
   ]
  },
  {
   "cell_type": "code",
   "execution_count": null,
   "id": "db334f60",
   "metadata": {},
   "outputs": [],
   "source": []
  }
 ],
 "metadata": {
  "kernelspec": {
   "display_name": "qruntime",
   "language": "python",
   "name": "qruntime"
  },
  "language_info": {
   "codemirror_mode": {
    "name": "ipython",
    "version": 3
   },
   "file_extension": ".py",
   "mimetype": "text/x-python",
   "name": "python",
   "nbconvert_exporter": "python",
   "pygments_lexer": "ipython3",
   "version": "3.9.5"
  }
 },
 "nbformat": 4,
 "nbformat_minor": 5
}
