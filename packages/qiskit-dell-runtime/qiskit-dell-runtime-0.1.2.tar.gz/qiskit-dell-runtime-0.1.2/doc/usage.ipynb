{
 "cells": [
  {
   "cell_type": "markdown",
   "source": [
    "# Usage Instructions for Qiskit Dell Runtime\n",
    "\n",
    "##### Note: This is not a tutorial for Qiskit; only the Qiskit Dell Runtime. Features of Qiskit are documented in the Qiskit Textbook and are not covered here. \n",
    "\n",
    "## Local Execution Setup\n",
    "\n",
    "Presuming that the Qiskit Dell Runtime is installed on your working machine, all that is required to start the local runtime environment is the following:\n",
    "\n",
    "* Import the `DellRuntimeProvider`:"
   ],
   "metadata": {}
  },
  {
   "cell_type": "code",
   "execution_count": null,
   "source": [
    "from dell_runtime import DellRuntimeProvider"
   ],
   "outputs": [],
   "metadata": {}
  },
  {
   "cell_type": "markdown",
   "source": [
    "* Create the `DellRuntimeProvider` object:"
   ],
   "metadata": {}
  },
  {
   "cell_type": "code",
   "execution_count": null,
   "source": [
    "provider = DellRuntimeProvider()"
   ],
   "outputs": [],
   "metadata": {}
  },
  {
   "cell_type": "markdown",
   "source": [
    "Through `provider`, you can now access both the `provider.runtime` methods and the available backends."
   ],
   "metadata": {}
  },
  {
   "cell_type": "markdown",
   "source": [
    "## Remote Execution Setup\n",
    "\n",
    "To set up the remote execution environment, presuming that you already have a Qiskit Dell Runtime Server deployed on a Kubernetes cluster, first follow the local execution steps and then perform the following:\n",
    "\n",
    "* Specify the remote connection through your `DellRuntimeProvider`:"
   ],
   "metadata": {}
  },
  {
   "cell_type": "code",
   "execution_count": null,
   "source": [
    "provider.remote({server IP/URL})"
   ],
   "outputs": [],
   "metadata": {}
  },
  {
   "cell_type": "markdown",
   "source": [
    "The server IP/URL can be retrieved from an environment variable or hard-coded into your programs.\n",
    "\n",
    "If you do not have SSO enabled, the server will return a user ID to you. If you wish to return to your uploaded programs to manage or run them again, you may save that user ID and export it as an environment variable (`$QDR_ID`). The `DellRuntimeProvider` will check for this and use it if it is available.\n",
    "\n",
    "If you do have SSO enabled on your server, the usual SSO login process will initiate at this step. Provide your credentials to your identity provider and the server will log you in. If you have a valid token from your identity provider, you may export that as an environment variable (`$TOKEN`) and the provider will use that to authenticate you."
   ],
   "metadata": {}
  },
  {
   "cell_type": "markdown",
   "source": [
    "## Program Upload\n",
    "\n",
    "The interfaces provided by the local and remote runtime environments are identical, so the remaining sections apply to both.\n",
    "\n",
    "To upload a program to the runtime environment, run:"
   ],
   "metadata": {}
  },
  {
   "cell_type": "code",
   "execution_count": null,
   "source": [
    "program_id =  provider.runtime.upload_program(                        \\\n",
    "              (required) {data},                                      \\\n",
    "              (optional) metadata={metadata},                         \\\n",
    "              (optional) name={name},                                 \\\n",
    "              (optional) max_execution_time={max_execution_time},     \\\n",
    "              (optional) description={description},                   \\\n",
    "              (optional) version={version},                           \\\n",
    "              (optional) backend_requirements={backend_requirements}, \\\n",
    "              (optional) parameters={parameters},                     \\\n",
    "              (optional) return_values={return_values},               \\\n",
    "              (optional) interim_results={interim_results},           \\\n",
    "          )"
   ],
   "outputs": [],
   "metadata": {}
  },
  {
   "cell_type": "markdown",
   "source": [
    "\n",
    "The only required field is the `data` field. The parameter itself must be a string, but that string can represent the data in three different ways:\n",
    "* String containing a full program, complete with `main` function.\n",
    "* String containing a path to a file containing a full program.\n",
    "* String containing a path to a directory of files.\n",
    "  * One of these files in the top-level of that directory *must* be named `program.py` and contain `main`.\n",
    "\n",
    "It is also worth noting that the `main` function implemented in any of these three options must take at least two required parameters:\n",
    "* `backend`: The quantum backend on which your quantum code will run.\n",
    "* `user_messenger`: The means by which your bundle will return results to your client-side code.\n",
    "\n",
    "Other inputs can be named or put in `**kwargs`.\n",
    "\n",
    "The `metadata` field takes a dictionary comprised of the remaining parameters in the `provider.runtime.upload_program` call. It is legal to provide either one metadata object or provide each field as a parameter to the function. \n",
    "\n",
    "None of the collected metadata affects the execution of the program itself, but it can be useful for maintaining information about which programs have been saved to the server and how they are called.\n",
    "\n",
    "The `upload_program` function returns a program ID. This ID is the reference to the uploaded program on the server for any future operations you are able to perform with that program.\n",
    "\n",
    "## Execution \n",
    "\n",
    "In the Qiskit Runtime, the term 'program' refers to the bundle of classical and quantum code that a user has uploaded. A 'job,' however is an instance of that program run with one set of inputs. \n",
    "\n",
    "To begin a job using the Qiskit Dell Runtime, run:"
   ],
   "metadata": {}
  },
  {
   "cell_type": "code",
   "execution_count": null,
   "source": [
    "job = provider.runtime.run(                                 \\\n",
    "                            (required) {program_id},        \\\n",
    "                            (required) options={options},   \\\n",
    "                            (required) inputs={inputs},     \\\n",
    "                            (optional) callback={callback}  \\\n",
    "                          )"
   ],
   "outputs": [],
   "metadata": {}
  },
  {
   "cell_type": "markdown",
   "source": [
    "In the above call, the required parameters are the program ID (provided from the runtime in the previous step), the options (can be `None`), and the inputs. The `options` and the `inputs` are both dictionaries, where `options` determine how a program is run and `inputs` are provided to the uploaded client code's `main` function.\n",
    "\n",
    "Returned from this call is a `job` object, which allows the user to check on the status (`job.status()`) of the job as well as access any messages that have been sent back from the job.\n",
    "\n",
    "### Obtaining Results\n",
    "\n",
    "To obtain any intermediate results your uploaded bundle may output, you may use the following:"
   ],
   "metadata": {}
  },
  {
   "cell_type": "code",
   "execution_count": null,
   "source": [
    "int_results = job.get_unread_messages()"
   ],
   "outputs": [],
   "metadata": {}
  },
  {
   "cell_type": "markdown",
   "source": [
    "The `get_unread_messages` function will return a list of all messages that have not yet been returned by previous `get_unread_messages` calls.\n",
    "\n",
    "It is important to note that _results marked `final` are not returned from `get_unread_messages`_. To obtain the `final` results from your program's execution you must use:"
   ],
   "metadata": {}
  },
  {
   "cell_type": "code",
   "execution_count": null,
   "source": [
    "final_results = job.result()"
   ],
   "outputs": [],
   "metadata": {}
  },
  {
   "cell_type": "markdown",
   "source": [
    "`result` called with no parameter will return either the final results of the job, if they have been received, or `None` if they have not.\n",
    "\n",
    "Optionally, you may call `result` with a `timeout`, expressed in seconds."
   ],
   "metadata": {}
  },
  {
   "cell_type": "code",
   "execution_count": null,
   "source": [
    "final_results = job.result(timeout=60)"
   ],
   "outputs": [],
   "metadata": {}
  },
  {
   "cell_type": "markdown",
   "source": [
    "\n",
    "Be aware that if the call times out, an `Exception` will be raised.\n",
    "\n",
    "## (Optional) Callback Function\n",
    "\n",
    "When executing a program using the Qiskit Dell Runtime it may be helpful to process results as they are sent back. To do this, the interface provides two options: \n",
    "* Manually call `get_unread_messages` and perform whatever computations are necessary\n",
    "* Provide a `callback` function to the `provider.runtime.run` call that is called upon each intermediate message's arrival\n",
    "\n",
    "To provide a callback function to run for each intermediate message, you may provide a function name in the call to `provider.runtime.run`. The function specified can be a built-in function, a library function, or a user-defined function. The function must, however, take a dictionary representing the message as its only parameter:\n"
   ],
   "metadata": {}
  },
  {
   "cell_type": "code",
   "execution_count": null,
   "source": [
    "def custom_callback(*args):\n",
    "  (nfev, parameters, energy, stddev) = args[0]\n",
    "  intermediate_info['nfev'].append(nfev)\n",
    "  intermediate_info['parameters'].append(parameters)\n",
    "  intermediate_info['energy'].append(energy)\n",
    "  intermediate_info['stddev'].append(stddev)\n",
    "\n",
    "job = provider.runtime.run(program_id, options=options, inputs=inputs, callback=custom_callback)"
   ],
   "outputs": [],
   "metadata": {}
  },
  {
   "cell_type": "markdown",
   "source": [
    "\n",
    "Upon the `job` object's receipt of intermediate messages, it will call the `custom_callback` and handle the data.\n",
    "\n",
    "## (Optional) Backend Selection\n",
    "\n",
    "The default backend provided by the Qiskit Dell Runtime is IBM's Qiskit Aer. However, there are other backends implemented. If you wish to run the quantum portions of your code on a QPU or simulator, you may provide this information in the `inputs` dictionary:"
   ],
   "metadata": {}
  },
  {
   "cell_type": "code",
   "execution_count": null,
   "source": [
    "inputs = {\n",
    "  'backend_name': '{name_of_quantum_backend}',\n",
    "  'backend_token': '{backend_access_token}'\n",
    "}"
   ],
   "outputs": [],
   "metadata": {}
  },
  {
   "cell_type": "markdown",
   "source": [
    "Some available backends require access tokens - if the backend you've selected does, you must provide it in `inputs`. If the backend you've chosen does not require a token, you may omit this field.\n",
    "\n",
    "If the backend you've selected is available in the listing provided by the Qiskit Dell Runtime Server, it will be used to run the quantum portions of your code.\n",
    "\n",
    "If the backend is not available, IBM's Qiskit Aer will be used instead."
   ],
   "metadata": {}
  }
 ],
 "metadata": {
  "orig_nbformat": 4,
  "language_info": {
   "name": "python"
  }
 },
 "nbformat": 4,
 "nbformat_minor": 2
}