{
 "cells": [
  {
   "cell_type": "markdown",
   "id": "ea6f4d78",
   "metadata": {},
   "source": [
    "### Aligned Allocator [&#9997;](test/aligned_allocator.py)"
   ]
  },
  {
   "cell_type": "code",
   "execution_count": null,
   "id": "648f802e",
   "metadata": {},
   "outputs": [],
   "source": [
    "%%python\n",
    "from test import aligned_allocator\n",
    "\n",
    "from mmap import PAGESIZE\n",
    "import numpy as np\n",
    "\n",
    "with aligned_allocator(PAGESIZE) as page_aligned_allocator:\n",
    "    print(page_aligned_allocator)\n",
    "\n",
    "    np.core.test()"
   ]
  },
  {
   "cell_type": "markdown",
   "id": "b77b1ae8",
   "metadata": {},
   "source": [
    "### Debug Allocator [&#9997;](test/debug_allocator.py)"
   ]
  },
  {
   "cell_type": "code",
   "execution_count": null,
   "id": "eddf3002",
   "metadata": {},
   "outputs": [],
   "source": [
    "%%python\n",
    "from test import debug_allocator\n",
    "\n",
    "import numpy as np\n",
    "\n",
    "with debug_allocator:\n",
    "    a = np.arange(15).reshape((3, 5))\n",
    "\n",
    "assert debug_allocator.handles(a)\n",
    "\n",
    "b = np.array([6, 7, 8])\n",
    "\n",
    "assert not debug_allocator.handles(b)"
   ]
  },
  {
   "cell_type": "markdown",
   "id": "e27dfe1d",
   "metadata": {},
   "source": [
    "### Null Allocator [&#9997;](test/null_allocator.py)"
   ]
  },
  {
   "cell_type": "code",
   "execution_count": null,
   "id": "150c4317",
   "metadata": {},
   "outputs": [],
   "source": [
    "%%python\n",
    "from test import null_allocator\n",
    "\n",
    "import numpy as np\n",
    "\n",
    "with np.testing.assert_raises(MemoryError):\n",
    "    with null_allocator:\n",
    "        np.ndarray(())"
   ]
  },
  {
   "cell_type": "markdown",
   "id": "12a0e4bd",
   "metadata": {},
   "source": [
    "### Page Aligned Allocator [&#9997;](test/page_aligned_allocator.py)"
   ]
  },
  {
   "cell_type": "code",
   "execution_count": null,
   "id": "232bb08b",
   "metadata": {},
   "outputs": [],
   "source": [
    "%%python\n",
    "from test import page_aligned_allocator\n",
    "\n",
    "import numpy as np\n",
    "\n",
    "with page_aligned_allocator:\n",
    "    print(page_aligned_allocator)\n",
    "\n",
    "    np.core.test()"
   ]
  }
 ],
 "metadata": {
  "kernelspec": {
   "display_name": "Python 3",
   "language": "python",
   "name": "python3"
  }
 },
 "nbformat": 4,
 "nbformat_minor": 5
}
