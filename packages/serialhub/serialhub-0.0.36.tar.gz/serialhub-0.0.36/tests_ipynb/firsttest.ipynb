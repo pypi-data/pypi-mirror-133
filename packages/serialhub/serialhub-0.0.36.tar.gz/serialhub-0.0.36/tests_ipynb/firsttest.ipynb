{
 "cells": [
  {
   "cell_type": "code",
   "execution_count": null,
   "metadata": {},
   "outputs": [],
   "source": [
    "### See cell at bottom if \"serialhub\" is not yet installed ###\n",
    "import serialhub;\n",
    "print(serialhub.backend.SerialHubWidget.__doc__)\n",
    "serialhub.__version__"
   ]
  },
  {
   "cell_type": "code",
   "execution_count": null,
   "metadata": {
    "tags": [
     "test-tag"
    ]
   },
   "outputs": [],
   "source": [
    "### If \"Unsupported\", then ensure using a modern version of Google Chrome\n",
    "### If on Linux and no input/output happens, check permissions on /dev/ttyACM* files!\n",
    "from IPython.display import display\n",
    "W = serialhub.SerialHubWidget()\n",
    "display(W)\n",
    "W.request_options = { 'filters':[{'usbVendorId': 0x2047}] }\n",
    "W.serial_options = { 'baudRate':115200, 'dataBits':8, 'parity':'none', 'stopBits':1 }"
   ]
  },
  {
   "cell_type": "code",
   "execution_count": null,
   "metadata": {},
   "outputs": [],
   "source": [
    "### Click on the text that says \"Supported\", and select appropriate serial port!\n",
    "W.value = \"CLEARED\\n\"\n",
    "W.is_supported"
   ]
  },
  {
   "cell_type": "markdown",
   "metadata": {},
   "source": [
    "---"
   ]
  },
  {
   "cell_type": "code",
   "execution_count": null,
   "metadata": {},
   "outputs": [],
   "source": [
    "W.write_bytes(b'Testing!!')\n",
    "W.write_str('Howdy World')"
   ]
  },
  {
   "cell_type": "code",
   "execution_count": null,
   "metadata": {},
   "outputs": [],
   "source": [
    "%%javascript\n",
    "let SPH = window.serPort //Hacky trick, use DOM search instead\n",
    "console.log(\"TEST\", SPH)"
   ]
  },
  {
   "cell_type": "code",
   "execution_count": null,
   "metadata": {},
   "outputs": [],
   "source": [
    "W.send_custom( #Test message to examine marshaling/messaging to client\n",
    "    {'type':\"SEND2\", 'text':'Testing!!!',\n",
    "     'sub': {'a':21}, 'arr':[2,4,6] },\n",
    "    [b'ABC', b'BEEF', bytearray(b'Barakas')]\n",
    ")"
   ]
  },
  {
   "cell_type": "markdown",
   "metadata": {},
   "source": [
    "---"
   ]
  }
 ],
 "metadata": {
  "kernelspec": {
   "display_name": "Python 3 (ipykernel)",
   "language": "python",
   "name": "python3"
  },
  "language_info": {
   "codemirror_mode": {
    "name": "ipython",
    "version": 3
   },
   "file_extension": ".py",
   "mimetype": "text/x-python",
   "name": "python",
   "nbconvert_exporter": "python",
   "pygments_lexer": "ipython3",
   "version": "3.9.6"
  }
 },
 "nbformat": 4,
 "nbformat_minor": 4
}
