{
 "cells": [
  {
   "cell_type": "markdown",
   "metadata": {},
   "source": [
    "# Original ICE table calculations"
   ]
  },
  {
   "cell_type": "code",
   "execution_count": 8,
   "metadata": {},
   "outputs": [
    {
     "name": "stdout",
     "output_type": "stream",
     "text": [
      "{'change': {'Ca': -0.018565196026999964,\n",
      "            'Gypsum': 0.019614,\n",
      "            'S': -0.018567569229999803},\n",
      " 'final': {'Ca': 0.335957721232, 'Gypsum': 0.019614, 'S': 1.7969614040000002},\n",
      " 'initial': {'Ca': 0.354522917259, 'Gypsum': 0, 'S': 1.81552897323}}\n"
     ]
    }
   ],
   "source": [
    "from scipy.constants import kilo\n",
    "from pprint import pprint\n",
    "import pandas\n",
    "pandas.set_option('display.max_columns', None)\n",
    "pandas.set_option('display.max_rows', None)\n",
    "    \n",
    "# import the selected_output file of the simulation: https://github.com/freiburgermsu/ROSSpy/tree/main/examples/scaling/2021-10-27-ROSSpy-red_sea-transport-pitzer-scaling-all_distance-LinPerm\n",
    "sel_file = pandas.read_table('selected_output.pqo', sep='\\s+')\n",
    "# display(sel_file)\n",
    "\n",
    "elemental_molal = {}\n",
    "water_mass = {}\n",
    "precipitated_gypsum_moles = 0\n",
    "for index, row in sel_file.iterrows():\n",
    "    if index < 15:\n",
    "        continue\n",
    "    else:\n",
    "        precipitated_gypsum_moles += row['d_Gypsum']\n",
    "        if index == 15:\n",
    "            water_mass['initial'] = row['mass_H2O']\n",
    "            elemental_molal['initial'] = {}\n",
    "            elemental_molal['initial']['Ca'] = row['Ca(mol/kgw)']\n",
    "            elemental_molal['initial']['S'] = row['S(6)(mol/kgw)']\n",
    "        if index == 26:\n",
    "            water_mass['final'] = row['mass_H2O']\n",
    "            elemental_molal['final'] = {}\n",
    "            elemental_molal['final']['Ca'] = row['Ca(mol/kgw)']\n",
    "            elemental_molal['final']['S'] = row['S(6)(mol/kgw)']\n",
    "        \n",
    "solution_moles = {}\n",
    "solution_moles['initial'] = {}\n",
    "solution_moles['final'] = {}\n",
    "solution_moles['change'] = {}\n",
    "for element in elemental_molal['initial']:\n",
    "    solution_moles['initial'][element] = elemental_molal['initial'][element] * water_mass['initial']\n",
    "    solution_moles['final'][element] = elemental_molal['final'][element] * water_mass['final']\n",
    "    solution_moles['change'][element] = solution_moles['final'][element] - solution_moles['initial'][element]\n",
    "    \n",
    "solution_moles['initial']['Gypsum'] = 0\n",
    "solution_moles['final']['Gypsum'] = precipitated_gypsum_moles\n",
    "solution_moles['change']['Gypsum'] = precipitated_gypsum_moles\n",
    "\n",
    "pprint(solution_moles)"
   ]
  }
 ],
 "metadata": {
  "kernelspec": {
   "display_name": "Python 3",
   "language": "python",
   "name": "python3"
  },
  "language_info": {
   "codemirror_mode": {
    "name": "ipython",
    "version": 3
   },
   "file_extension": ".py",
   "mimetype": "text/x-python",
   "name": "python",
   "nbconvert_exporter": "python",
   "pygments_lexer": "ipython3",
   "version": "3.7.4"
  }
 },
 "nbformat": 4,
 "nbformat_minor": 2
}
