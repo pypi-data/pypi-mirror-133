{
 "cells": [
  {
   "cell_type": "markdown",
   "metadata": {},
   "source": [
    "# Execute the wastewater simulation"
   ]
  },
  {
   "cell_type": "code",
   "execution_count": null,
   "metadata": {},
   "outputs": [
    {
     "name": "stdout",
     "output_type": "stream",
     "text": [
      "\n",
      "--> ERROR: The Co element is not accepted by the pitzer database\n",
      "\n",
      "--> ERROR: The Cu element is not accepted by the pitzer database\n",
      "\n",
      "\n",
      "\n",
      "\n",
      "Estimated completion in 3.80E1 seconds by 2021-12-22 00:05:36.853317 local time.\n"
     ]
    },
    {
     "name": "stderr",
     "output_type": "stream",
     "text": [
      "C:\\Users\\Andrew Freiburger\\AppData\\Roaming\\Python\\Python37\\site-packages\\sigfig\\sigfig.py:572: UserWarning: warning: 3 significant figures requested from number with only 2 significant figures\n",
      "  warn(\"warning: %d significant figures requested from number with only %d significant figures\" % (given['sigfigs'], len(num.map)))\n"
     ]
    }
   ],
   "source": [
    "# execute the ROSSpy simulation\n",
    "%run ../../../rosspy/core.py\n",
    "ross = ROSSPkg(verbose = False)\n",
    "\n",
    "# initial parameters\n",
    "database_selection = 'pitzer'\n",
    "simulation_perspective = 'all_distance'\n",
    "simulation_time = 200\n",
    "simulation_name = 'Lee_et_al_wastewater'\n",
    "\n",
    "# Define the feed conditions\n",
    "water_selection = 'waterwater'\n",
    "water_characteristics = {\n",
    "    'element': {\n",
    "        'Li': {\n",
    "            'concentration (ppm)': 0.04\n",
    "        },\n",
    "        'Na': {\n",
    "            'concentration (ppm)': 161\n",
    "        },\n",
    "        'Mg': {\n",
    "            'concentration (ppm)': 3.5\n",
    "        },\n",
    "        'Ca': {\n",
    "            'concentration (ppm)': 1303\n",
    "        }, \n",
    "        'K': {\n",
    "            'concentration (ppm)': 37\n",
    "        },\n",
    "        'Mn': {\n",
    "            'concentration (ppm)': 0.09\n",
    "        }, \n",
    "        'Fe': {\n",
    "            'concentration (ppm)': 9.8\n",
    "        }, \n",
    "        'Co': {\n",
    "            'concentration (ppm)': 0.13\n",
    "        }, \n",
    "        'Cu': {\n",
    "            'concentration (ppm)': 0.03\n",
    "        },\n",
    "    },\n",
    "    'temperature': {\n",
    "        'value': 20\n",
    "    },\n",
    "    'Alkalinity': {\n",
    "        'value': 500\n",
    "    },\n",
    "    'pH': {\n",
    "        'value': 7.5\n",
    "    },\n",
    "}\n",
    "\n",
    "# create the input file\n",
    "ross.define_general(database_selection)\n",
    "ross.transport(simulation_time, simulation_perspective, )\n",
    "ross.reaction()\n",
    "ross.solutions(water_selection, water_characteristics)\n",
    "ross.equilibrium_phases()\n",
    "ross.selected_output()\n",
    "ross.export(simulation_name)\n",
    "\n",
    "# execute and process the input file\n",
    "raw_data = ross.execute()\n",
    "distance_data = ross.process_selected_output()\n",
    "display(distance_data)"
   ]
  },
  {
   "cell_type": "code",
   "execution_count": null,
   "metadata": {},
   "outputs": [],
   "source": []
  },
  {
   "cell_type": "code",
   "execution_count": null,
   "metadata": {},
   "outputs": [],
   "source": []
  },
  {
   "cell_type": "code",
   "execution_count": null,
   "metadata": {},
   "outputs": [],
   "source": []
  }
 ],
 "metadata": {
  "kernelspec": {
   "display_name": "Python 3",
   "language": "python",
   "name": "python3"
  },
  "language_info": {
   "codemirror_mode": {
    "name": "ipython",
    "version": 3
   },
   "file_extension": ".py",
   "mimetype": "text/x-python",
   "name": "python",
   "nbconvert_exporter": "python",
   "pygments_lexer": "ipython3",
   "version": "3.7.4"
  }
 },
 "nbformat": 4,
 "nbformat_minor": 2
}
