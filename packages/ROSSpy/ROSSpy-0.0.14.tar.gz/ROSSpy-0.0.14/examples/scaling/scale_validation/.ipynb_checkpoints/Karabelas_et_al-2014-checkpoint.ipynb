{
 "cells": [
  {
   "cell_type": "markdown",
   "metadata": {},
   "source": [
    "# Define and execute the simulation"
   ]
  },
  {
   "cell_type": "code",
   "execution_count": 1,
   "metadata": {},
   "outputs": [
    {
     "name": "stdout",
     "output_type": "stream",
     "text": [
      "\n",
      "\n",
      "\n",
      "\n",
      "Estimated completion in 3.80E1 seconds by 2021-12-23 00:20:47.552737 local time.\n"
     ]
    },
    {
     "name": "stderr",
     "output_type": "stream",
     "text": [
      "C:\\Users\\Andrew Freiburger\\AppData\\Roaming\\Python\\Python37\\site-packages\\sigfig\\sigfig.py:572: UserWarning: warning: 3 significant figures requested from number with only 2 significant figures\n",
      "  warn(\"warning: %d significant figures requested from number with only %d significant figures\" % (given['sigfigs'], len(num.map)))\n"
     ]
    },
    {
     "data": {
      "text/plain": [
       "<Figure size 1700x1000 with 1 Axes>"
      ]
     },
     "metadata": {},
     "output_type": "display_data"
    },
    {
     "data": {
      "text/html": [
       "<div>\n",
       "<style scoped>\n",
       "    .dataframe tbody tr th:only-of-type {\n",
       "        vertical-align: middle;\n",
       "    }\n",
       "\n",
       "    .dataframe tbody tr th {\n",
       "        vertical-align: top;\n",
       "    }\n",
       "\n",
       "    .dataframe thead th {\n",
       "        text-align: right;\n",
       "    }\n",
       "</style>\n",
       "<table border=\"1\" class=\"dataframe\">\n",
       "  <thead>\n",
       "    <tr style=\"text-align: right;\">\n",
       "      <th></th>\n",
       "      <th>Gypsum (g/m^2)</th>\n",
       "    </tr>\n",
       "    <tr>\n",
       "      <th>Distance (m)</th>\n",
       "      <th></th>\n",
       "    </tr>\n",
       "  </thead>\n",
       "  <tbody>\n",
       "    <tr>\n",
       "      <th>1.27E-1</th>\n",
       "      <td>6.65E0</td>\n",
       "    </tr>\n",
       "    <tr>\n",
       "      <th>2.12E-1</th>\n",
       "      <td>6.45E0</td>\n",
       "    </tr>\n",
       "    <tr>\n",
       "      <th>2.96E-1</th>\n",
       "      <td>6.26E0</td>\n",
       "    </tr>\n",
       "    <tr>\n",
       "      <th>3.81E-1</th>\n",
       "      <td>6.07E0</td>\n",
       "    </tr>\n",
       "    <tr>\n",
       "      <th>4.66E-1</th>\n",
       "      <td>5.89E0</td>\n",
       "    </tr>\n",
       "    <tr>\n",
       "      <th>5.50E-1</th>\n",
       "      <td>5.70E0</td>\n",
       "    </tr>\n",
       "    <tr>\n",
       "      <th>6.35E-1</th>\n",
       "      <td>5.52E0</td>\n",
       "    </tr>\n",
       "    <tr>\n",
       "      <th>7.20E-1</th>\n",
       "      <td>5.34E0</td>\n",
       "    </tr>\n",
       "    <tr>\n",
       "      <th>8.04E-1</th>\n",
       "      <td>5.16E0</td>\n",
       "    </tr>\n",
       "    <tr>\n",
       "      <th>8.89E-1</th>\n",
       "      <td>4.99E0</td>\n",
       "    </tr>\n",
       "  </tbody>\n",
       "</table>\n",
       "</div>"
      ],
      "text/plain": [
       "             Gypsum (g/m^2)\n",
       "Distance (m)               \n",
       "1.27E-1              6.65E0\n",
       "2.12E-1              6.45E0\n",
       "2.96E-1              6.26E0\n",
       "3.81E-1              6.07E0\n",
       "4.66E-1              5.89E0\n",
       "5.50E-1              5.70E0\n",
       "6.35E-1              5.52E0\n",
       "7.20E-1              5.34E0\n",
       "8.04E-1              5.16E0\n",
       "8.89E-1              4.99E0"
      ]
     },
     "metadata": {},
     "output_type": "display_data"
    }
   ],
   "source": [
    "# execute the ROSSpy simulation\n",
    "%run ../../../rosspy/core.py\n",
    "ross = ROSSPkg(verbose = False)\n",
    "\n",
    "# initial parameters\n",
    "database_selection = 'pitzer'\n",
    "simulation_perspective = 'all_distance'\n",
    "simulation_time = 200\n",
    "\n",
    "# Define the feed conditions\n",
    "water_selection = 'Spacer_filled_channels'\n",
    "water_characteristics = {\n",
    "    'element': {\n",
    "        'Ca': {\n",
    "            'concentration (ppm)': 800\n",
    "            }, \n",
    "        'S(6)': {\n",
    "            'concentration (ppm)': 1975\n",
    "        }\n",
    "    },\n",
    "    'pH': {\n",
    "        'value': 6.4\n",
    "    },\n",
    "}\n",
    "\n",
    "# create the input file\n",
    "ross.define_general(database_selection)\n",
    "ross.transport(simulation_time, simulation_perspective, )\n",
    "ross.reaction()\n",
    "ross.solutions(water_selection, water_characteristics)\n",
    "ross.equilibrium_phases()\n",
    "ross.selected_output()\n",
    "ross.export()\n",
    "\n",
    "# execute and process the input file\n",
    "raw_data = ross.execute()\n",
    "distance_data = ross.process_selected_output()\n",
    "display(distance_data)"
   ]
  },
  {
   "cell_type": "code",
   "execution_count": null,
   "metadata": {},
   "outputs": [],
   "source": []
  },
  {
   "cell_type": "code",
   "execution_count": null,
   "metadata": {},
   "outputs": [],
   "source": []
  }
 ],
 "metadata": {
  "kernelspec": {
   "display_name": "Python 3",
   "language": "python",
   "name": "python3"
  },
  "language_info": {
   "codemirror_mode": {
    "name": "ipython",
    "version": 3
   },
   "file_extension": ".py",
   "mimetype": "text/x-python",
   "name": "python",
   "nbconvert_exporter": "python",
   "pygments_lexer": "ipython3",
   "version": "3.7.4"
  }
 },
 "nbformat": 4,
 "nbformat_minor": 2
}
