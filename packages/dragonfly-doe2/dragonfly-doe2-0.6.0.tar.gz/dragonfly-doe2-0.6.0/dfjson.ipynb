{
 "cells": [
  {
   "cell_type": "code",
   "execution_count": 2,
   "metadata": {},
   "outputs": [
    {
     "ename": "NameError",
     "evalue": "name 'math' is not defined",
     "output_type": "error",
     "traceback": [
      "\u001b[1;31m---------------------------------------------------------------------------\u001b[0m",
      "\u001b[1;31mNameError\u001b[0m                                 Traceback (most recent call last)",
      "\u001b[1;32m~\\AppData\\Local\\Temp/ipykernel_18584/3181185617.py\u001b[0m in \u001b[0;36m<module>\u001b[1;34m\u001b[0m\n\u001b[0;32m     25\u001b[0m \u001b[1;33m\u001b[0m\u001b[0m\n\u001b[0;32m     26\u001b[0m \u001b[1;33m\u001b[0m\u001b[0m\n\u001b[1;32m---> 27\u001b[1;33m \u001b[0mprint\u001b[0m\u001b[1;33m(\u001b[0m\u001b[0mmake_doe_verts\u001b[0m\u001b[1;33m(\u001b[0m\u001b[0mflr_geom\u001b[0m\u001b[1;33m)\u001b[0m\u001b[1;33m)\u001b[0m\u001b[1;33m\u001b[0m\u001b[1;33m\u001b[0m\u001b[0m\n\u001b[0m",
      "\u001b[1;32md:\\__A1_LBT_DEV\\dragonfly-doe2\\dragonfly_doe2\\doe\\utils.py\u001b[0m in \u001b[0;36mmake_doe_verts\u001b[1;34m(lbt_geom)\u001b[0m\n\u001b[0;32m     33\u001b[0m     centr = (sum([v[0] for v in verts]) / len(verts),\n\u001b[0;32m     34\u001b[0m              sum([v[1] for v in verts]) / len(verts))\n\u001b[1;32m---> 35\u001b[1;33m     organized_vertices = verts.sort(\n\u001b[0m\u001b[0;32m     36\u001b[0m         key=lambda v: math.atan2(v[1]-centr[1], v[0]-centr[0]))\n\u001b[0;32m     37\u001b[0m     \u001b[1;32mreturn\u001b[0m \u001b[0morganized_vertices\u001b[0m\u001b[1;33m\u001b[0m\u001b[1;33m\u001b[0m\u001b[0m\n",
      "\u001b[1;32md:\\__A1_LBT_DEV\\dragonfly-doe2\\dragonfly_doe2\\doe\\utils.py\u001b[0m in \u001b[0;36m<lambda>\u001b[1;34m(v)\u001b[0m\n\u001b[0;32m     34\u001b[0m              sum([v[1] for v in verts]) / len(verts))\n\u001b[0;32m     35\u001b[0m     organized_vertices = verts.sort(\n\u001b[1;32m---> 36\u001b[1;33m         key=lambda v: math.atan2(v[1]-centr[1], v[0]-centr[0]))\n\u001b[0m\u001b[0;32m     37\u001b[0m     \u001b[1;32mreturn\u001b[0m \u001b[0morganized_vertices\u001b[0m\u001b[1;33m\u001b[0m\u001b[1;33m\u001b[0m\u001b[0m\n",
      "\u001b[1;31mNameError\u001b[0m: name 'math' is not defined"
     ]
    }
   ],
   "source": [
    "import dragonfly\n",
    "import dragonfly_energy\n",
    "from dragonfly.model import Model\n",
    "from dragonfly.story import Story\n",
    "from dragonfly.room2d import Room2D\n",
    "\n",
    "from dragonfly_doe2 import doe\n",
    "from dragonfly_doe2.doe import floor_space\n",
    "import sys\n",
    "import os\n",
    "import json\n",
    "\n",
    "from dragonfly_doe2.doe.utils import make_doe_verts\n",
    "\n",
    "def make_model(_dfjson):\n",
    "    mod = Model.from_file(_dfjson)\n",
    "    return mod\n",
    "\n",
    "test_model = make_model('assets\\\\reference_dfm\\\\complex_model.dfjson')\n",
    "\n",
    "test_story = test_model.stories[0]\n",
    "test_room = test_story.room_2ds[3]\n",
    "\n",
    "flr_geom = test_room.floor_geometry\n",
    "\n",
    "\n",
    "print(make_doe_verts(flr_geom))"
   ]
  },
  {
   "cell_type": "code",
   "execution_count": null,
   "metadata": {},
   "outputs": [],
   "source": [
    "import pathlib\n",
    "import sys\n",
    "import os\n",
    "\n",
    "from dragonfly_doe2.writer import model_to_inp\n",
    "from dragonfly.model import Model\n",
    "\n",
    "\n",
    "df_json = 'assets/reference_dfm/complex_model.dfjson'\n",
    "out_inp = 'assets/test_output_inps'\n",
    "out_file = pathlib.Path(out_inp, 'test-model.inp')\n",
    "df_model = Model.from_dfjson(dfjson_file=df_json)\n",
    "a = model_to_inp(df_model, folder=out_inp, name='test-model.inp')\n",
    "a\n",
    "\n"
   ]
  },
  {
   "cell_type": "code",
   "execution_count": null,
   "metadata": {},
   "outputs": [],
   "source": []
  },
  {
   "cell_type": "code",
   "execution_count": null,
   "metadata": {},
   "outputs": [],
   "source": []
  },
  {
   "cell_type": "code",
   "execution_count": null,
   "metadata": {},
   "outputs": [],
   "source": [
    "baselong = 'Typical Insulated Steel Framed Exterior Wall-R19'\n",
    "regedlong = 'Typical Insulated Steel Framed E'\n",
    "\n",
    "print(len(baselong), len(regedlong))"
   ]
  },
  {
   "cell_type": "code",
   "execution_count": null,
   "metadata": {},
   "outputs": [],
   "source": []
  }
 ],
 "metadata": {
  "interpreter": {
   "hash": "b3e87ce88a8455777fcf05900ffd27ec10447b273455023454e0b0b112519aa7"
  },
  "kernelspec": {
   "display_name": "Python 3.9.5 64-bit ('.env': venv)",
   "language": "python",
   "name": "python3"
  },
  "language_info": {
   "codemirror_mode": {
    "name": "ipython",
    "version": 3
   },
   "file_extension": ".py",
   "mimetype": "text/x-python",
   "name": "python",
   "nbconvert_exporter": "python",
   "pygments_lexer": "ipython3",
   "version": "3.9.5"
  },
  "orig_nbformat": 4
 },
 "nbformat": 4,
 "nbformat_minor": 2
}
