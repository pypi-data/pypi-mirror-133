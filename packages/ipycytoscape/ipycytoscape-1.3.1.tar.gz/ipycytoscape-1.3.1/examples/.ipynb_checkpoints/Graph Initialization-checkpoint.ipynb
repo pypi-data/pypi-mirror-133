{
 "cells": [
  {
   "cell_type": "markdown",
   "id": "everyday-colonial",
   "metadata": {},
   "source": [
    "# Easy Graph Initialization\n",
    "The CytoscapeWidget accepts an optional graph parameter, using this we can pass the graph's data and initialise a graph. We can pass data as:\n",
    "\n",
    "- A json file (wither the filename or the json object itself)\n",
    "- A networkx graph\n",
    "- A pandas Dataframe  \n",
    "- A neo4j graph\n",
    "- A ipycytoscape Graph"
   ]
  },
  {
   "cell_type": "code",
   "execution_count": 1,
   "id": "nominated-closing",
   "metadata": {
    "execution": {
     "iopub.execute_input": "2021-11-27T01:42:23.551979Z",
     "iopub.status.busy": "2021-11-27T01:42:23.551521Z",
     "iopub.status.idle": "2021-11-27T01:42:23.998189Z",
     "shell.execute_reply": "2021-11-27T01:42:23.997507Z",
     "shell.execute_reply.started": "2021-11-27T01:42:23.551845Z"
    }
   },
   "outputs": [],
   "source": [
    "import ipycytoscape"
   ]
  },
  {
   "cell_type": "code",
   "execution_count": 2,
   "id": "waiting-brunswick",
   "metadata": {
    "execution": {
     "iopub.execute_input": "2021-11-27T01:42:23.998855Z",
     "iopub.status.busy": "2021-11-27T01:42:23.998694Z",
     "iopub.status.idle": "2021-11-27T01:42:24.591725Z",
     "shell.execute_reply": "2021-11-27T01:42:24.591200Z",
     "shell.execute_reply.started": "2021-11-27T01:42:23.998838Z"
    }
   },
   "outputs": [
    {
     "data": {
      "application/vnd.jupyter.widget-view+json": {
       "model_id": "f75b13f8e008418f9e88c28a2e1ffcb4",
       "version_major": 2,
       "version_minor": 0
      },
      "text/plain": [
       "CytoscapeWidget(cytoscape_layout={'name': 'cola'}, cytoscape_style=[{'selector': 'node', 'css': {'background-c…"
      ]
     },
     "metadata": {},
     "output_type": "display_data"
    }
   ],
   "source": [
    "# 1. a cytoscape graph from json file\n",
    "json_from_filename = ipycytoscape.CytoscapeWidget(\"concentricData.json\")\n",
    "json_from_filename"
   ]
  },
  {
   "cell_type": "code",
   "execution_count": 3,
   "id": "dominant-locking",
   "metadata": {
    "execution": {
     "iopub.execute_input": "2021-11-27T01:42:24.592986Z",
     "iopub.status.busy": "2021-11-27T01:42:24.592830Z",
     "iopub.status.idle": "2021-11-27T01:42:25.231525Z",
     "shell.execute_reply": "2021-11-27T01:42:25.230990Z",
     "shell.execute_reply.started": "2021-11-27T01:42:24.592966Z"
    },
    "tags": []
   },
   "outputs": [
    {
     "data": {
      "application/vnd.jupyter.widget-view+json": {
       "model_id": "93a70982f2864d1a848eafbbc4d040de",
       "version_major": 2,
       "version_minor": 0
      },
      "text/plain": [
       "CytoscapeWidget(cytoscape_layout={'name': 'cola'}, cytoscape_style=[{'selector': 'node', 'css': {'background-c…"
      ]
     },
     "metadata": {},
     "output_type": "display_data"
    }
   ],
   "source": [
    "# 1. a cytoscape graph from json object\n",
    "\n",
    "import json\n",
    "with open(\"concentricData.json\") as fi:\n",
    "    json_file = json.load(fi)\n",
    "\n",
    "json_from_object = ipycytoscape.CytoscapeWidget(json_file)\n",
    "json_from_object"
   ]
  },
  {
   "cell_type": "code",
   "execution_count": 4,
   "id": "stupid-mayor",
   "metadata": {
    "execution": {
     "iopub.execute_input": "2021-11-27T01:42:25.232392Z",
     "iopub.status.busy": "2021-11-27T01:42:25.232209Z",
     "iopub.status.idle": "2021-11-27T01:42:25.290393Z",
     "shell.execute_reply": "2021-11-27T01:42:25.289561Z",
     "shell.execute_reply.started": "2021-11-27T01:42:25.232369Z"
    }
   },
   "outputs": [
    {
     "data": {
      "application/vnd.jupyter.widget-view+json": {
       "model_id": "51e1bd87e7fd4f4e96bf9229cf75c175",
       "version_major": 2,
       "version_minor": 0
      },
      "text/plain": [
       "CytoscapeWidget(cytoscape_layout={'name': 'cola'}, cytoscape_style=[{'selector': 'node', 'css': {'background-c…"
      ]
     },
     "metadata": {},
     "output_type": "display_data"
    }
   ],
   "source": [
    "# A networkx graph\n",
    "import networkx as nx\n",
    "\n",
    "G = nx.complete_graph(5)\n",
    "graph_from_nx = ipycytoscape.CytoscapeWidget(G)\n",
    "graph_from_nx"
   ]
  },
  {
   "cell_type": "code",
   "execution_count": 5,
   "id": "conceptual-sunday",
   "metadata": {
    "execution": {
     "iopub.execute_input": "2021-11-27T01:42:25.291593Z",
     "iopub.status.busy": "2021-11-27T01:42:25.291412Z",
     "iopub.status.idle": "2021-11-27T01:42:25.655907Z",
     "shell.execute_reply": "2021-11-27T01:42:25.655364Z",
     "shell.execute_reply.started": "2021-11-27T01:42:25.291569Z"
    }
   },
   "outputs": [
    {
     "data": {
      "application/vnd.jupyter.widget-view+json": {
       "model_id": "735c0ad71b444fb6b355d7ba3aab2fea",
       "version_major": 2,
       "version_minor": 0
      },
      "text/plain": [
       "CytoscapeWidget(cytoscape_layout={'name': 'cola'}, cytoscape_style=[{'selector': 'node', 'css': {'background-c…"
      ]
     },
     "metadata": {},
     "output_type": "display_data"
    }
   ],
   "source": [
    "# A pandas Dataframe\n",
    "\n",
    "import pandas as pd\n",
    "\n",
    "graphFrame = pd.read_csv(\"https://raw.githubusercontent.com/nextstrain/ncov/fe5a7ed1f92af63d6d1d43d0307e4b2620108aaa/data/metadata.tsv\", sep = '\\t')\n",
    "ipycytoscape.CytoscapeWidget(graphFrame[:30], groupby_cols=['country'], attribute_list=['age', 'virus'])"
   ]
  },
  {
   "cell_type": "code",
   "execution_count": null,
   "id": "undefined-store",
   "metadata": {
    "tags": []
   },
   "outputs": [],
   "source": [
    "# NBVAL_SKIP\n",
    "# A neo4j graph\n",
    "\n",
    "from py2neo import Graph, Node, Relationship\n",
    "\n",
    "g = graph = Graph(\"bolt://132.249.238.185:7687\", user=\"reader\", password=\"demo\")\n",
    "\n",
    "ipycytoscape.CytoscapeWidget(g)"
   ]
  },
  {
   "cell_type": "code",
   "execution_count": null,
   "id": "instrumental-aggregate",
   "metadata": {
    "tags": []
   },
   "outputs": [],
   "source": [
    "# A ipycytoscape graph\n",
    "ipycytoscape.CytoscapeWidget(json_from_object.graph)"
   ]
  },
  {
   "cell_type": "code",
   "execution_count": null,
   "id": "0bfe5d91-ea02-4896-b04e-999daa352dcd",
   "metadata": {},
   "outputs": [],
   "source": []
  }
 ],
 "metadata": {
  "kernelspec": {
   "display_name": "Python 3 (ipykernel)",
   "language": "python",
   "name": "python3"
  },
  "language_info": {
   "codemirror_mode": {
    "name": "ipython",
    "version": 3
   },
   "file_extension": ".py",
   "mimetype": "text/x-python",
   "name": "python",
   "nbconvert_exporter": "python",
   "pygments_lexer": "ipython3",
   "version": "3.9.7"
  },
  "widgets": {
   "application/vnd.jupyter.widget-state+json": {
    "state": {},
    "version_major": 2,
    "version_minor": 0
   }
  }
 },
 "nbformat": 4,
 "nbformat_minor": 5
}
